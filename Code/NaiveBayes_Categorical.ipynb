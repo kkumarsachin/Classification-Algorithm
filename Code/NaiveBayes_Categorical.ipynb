{
 "cells": [
  {
   "cell_type": "code",
   "execution_count": 10,
   "metadata": {},
   "outputs": [],
   "source": [
    "import numpy as np\n",
    "import pandas as pd\n",
    "from sklearn.model_selection import train_test_split\n",
    "import math\n",
    "from sklearn.model_selection import KFold\n",
    "from sklearn.metrics import classification_report,confusion_matrix, accuracy_score\n",
    "from sklearn.metrics import precision_recall_fscore_support as score\n",
    "from sklearn.preprocessing import LabelEncoder\n",
    "from collections import Counter"
   ]
  },
  {
   "cell_type": "code",
   "execution_count": 11,
   "metadata": {},
   "outputs": [],
   "source": [
    "def likelihood(train_data,train_label,current_x):\n",
    "    P0 = np.ones(train_data.shape[1])\n",
    "    P1 = np.ones(train_data.shape[1])\n",
    "    Count = Counter(train_label)\n",
    "    Count_0 = Count[0]\n",
    "    Count_1 = Count[1]\n",
    "\n",
    "    for i in range(train_data.shape[1]):\n",
    "        Con_0,Con_1 = 0,0\n",
    "        for j in range(train_data.shape[0]):\n",
    "            if train_label[j]==0 and current_x[i]==train_data[j,i]:\n",
    "                Con_0 +=1\n",
    "            elif train_label[j]==1 and current_x[i]==train_data[j,i]:\n",
    "                Con_1 +=1\n",
    "        \n",
    "        P0[i] = Con_0/Count_0\n",
    "        P1[i] = Con_1/Count_1\n",
    "    \n",
    "        \n",
    "    \n",
    "    \n",
    "    return np.product(P0),np.product(P1)"
   ]
  },
  {
   "cell_type": "code",
   "execution_count": 12,
   "metadata": {},
   "outputs": [],
   "source": [
    "def marginal_likelihood(train_data, current_x):\n",
    "    Px = 1\n",
    "    for i in range(train_data.shape[1]):\n",
    "        count = Counter(train_data[:,i])\n",
    "        Pxi = count[current_x[i]]/train_data.shape[0]\n",
    "        Px *= Pxi  \n",
    "    \n",
    "    return Px"
   ]
  },
  {
   "cell_type": "code",
   "execution_count": 13,
   "metadata": {},
   "outputs": [],
   "source": [
    "def prior_probability(train_label):\n",
    "    \n",
    "    total_class = Counter(train_label)\n",
    "    \n",
    "    P_0 = total_class[0]/len(train_label)\n",
    "    P_1 = total_class[1]/len(train_label)\n",
    "\n",
    "    \n",
    "    return P_0,P_1"
   ]
  },
  {
   "cell_type": "code",
   "execution_count": 14,
   "metadata": {},
   "outputs": [],
   "source": [
    "def posterior_probability(train_input,train_label,test_input):\n",
    "    \n",
    "    prior0,prior1= prior_probability(y_train)\n",
    "    marginal = marginal_likelihood(train_input,test_input)\n",
    "    likelihood_0,likelihood_1 = likelihood(train_input,y_train,test_input)\n",
    "    posterior_0 =( prior0 * likelihood_0)/marginal\n",
    "    posterior_1 =( prior1 * likelihood_1)/marginal\n",
    "    P0 = posterior_0 / (posterior_0+posterior_1)\n",
    "    P1 = posterior_1 / (posterior_0+posterior_1)\n",
    "\n",
    "    return (P0,P1)"
   ]
  },
  {
   "cell_type": "code",
   "execution_count": 15,
   "metadata": {},
   "outputs": [],
   "source": [
    "def naive_bayes(train_data,train_label,test_data):\n",
    "    Probabilities = []\n",
    "    y_pred = []\n",
    "\n",
    "    for rows in test_data:\n",
    "        Probabilities.append(posterior_probability(train_data,train_label,rows))\n",
    "    for value0,value1 in Probabilities:\n",
    "        if value0>value1:\n",
    "            y_pred.append(0)\n",
    "        else:\n",
    "            y_pred.append(1)\n",
    "    return Probabilities,y_pred\n",
    "    "
   ]
  },
  {
   "cell_type": "code",
   "execution_count": 16,
   "metadata": {},
   "outputs": [],
   "source": [
    "data = pd.read_csv('project3_dataset4.txt', sep='\\t', header=None)\n",
    "# lc = LabelEncoder()\n",
    "# data.iloc[:,4]= lc.fit_transform(data.iloc[:,4])\n",
    "data[0] = data[0].map( {'sunny':0, 'overcast':1, 'rain':2})\n",
    "data[1] = data[1].map({'hot':0,'mild':1,'cool':2})\n",
    "data[2] = data[2].map({'high':0,'normal':1})\n",
    "data[3]= data[3].map({'weak':0,'strong':1})\n",
    "rows,col=data.shape\n",
    "x = data.iloc[:,:col-1].values\n",
    "y = data.iloc[:,-1].values"
   ]
  },
  {
   "cell_type": "code",
   "execution_count": 17,
   "metadata": {},
   "outputs": [],
   "source": [
    "# # for only one input\n",
    "# x_train, x_test , y_train, y_test=  train_test_split(x,y,test_size = 0.2, random_state = 42)\n",
    "# Probabilities, y_pred = naive_bayes(x_train, y_train, x_test )\n",
    "# print(Probabilities)\n",
    "# print(y_pred)\n",
    "# print(y_test)\n",
    "# p,r,f,s = score(y_test,y_pred)\n",
    "# accuracy = accuracy_score(y_test,y_pred)\n",
    "# print('precision:',p.mean())\n",
    "# print('recall:',r.mean())\n",
    "# print('f1measure',f.mean())\n",
    "# print('accuracy',accuracy)"
   ]
  },
  {
   "cell_type": "code",
   "execution_count": 18,
   "metadata": {},
   "outputs": [
    {
     "name": "stdout",
     "output_type": "stream",
     "text": [
      "Probability: [(0.0, 1.0), (0.0, 1.0)]\n",
      "test_output: [1, 1]\n",
      "Probability: [(0.0, 1.0), (0.785346307956497, 0.21465369204350304)]\n",
      "test_output: [1, 0]\n",
      "Probability: [(0.0, 1.0), (0.0, 1.0)]\n",
      "test_output: [1, 1]\n",
      "Probability: [(0.0, 1.0), (0.25, 0.75)]\n",
      "test_output: [1, 1]\n",
      "Probability: [(0.32954301652006013, 0.67045698347994)]\n",
      "test_output: [1]\n",
      "Probability: [(0.17928740260877185, 0.8207125973912281)]\n",
      "test_output: [1]\n",
      "Probability: [(0.7107820453493753, 0.2892179546506247)]\n",
      "test_output: [0]\n",
      "Probability: [(0.0, 1.0)]\n",
      "test_output: [1]\n",
      "Probability: [(0.0, 1.0)]\n",
      "test_output: [1]\n",
      "Probability: [(0.3875598086124402, 0.6124401913875597)]\n",
      "test_output: [1]\n",
      "precision: 0.5\n",
      "recall: 0.525\n",
      "f1measure 0.5\n",
      "accuracy 0.55\n"
     ]
    },
    {
     "name": "stderr",
     "output_type": "stream",
     "text": [
      "C:\\Users\\sachi\\Anaconda3\\lib\\site-packages\\sklearn\\metrics\\classification.py:1135: UndefinedMetricWarning: Precision and F-score are ill-defined and being set to 0.0 in labels with no predicted samples.\n",
      "  'precision', 'predicted', average, warn_for)\n",
      "C:\\Users\\sachi\\Anaconda3\\lib\\site-packages\\sklearn\\metrics\\classification.py:1137: UndefinedMetricWarning: Recall and F-score are ill-defined and being set to 0.0 in labels with no true samples.\n",
      "  'recall', 'true', average, warn_for)\n"
     ]
    }
   ],
   "source": [
    "# for k fold\n",
    "from sklearn.model_selection import KFold\n",
    "\n",
    "kf = KFold(n_splits=10)\n",
    "precision = np.zeros(10)\n",
    "recall =  np.zeros(10)\n",
    "fscore =  np.zeros(10)\n",
    "accuracy =  np.zeros(10)\n",
    "support = np.zeros(10)\n",
    "\n",
    "\n",
    "kf = KFold(n_splits=10)\n",
    "precision = np.zeros(10)\n",
    "recall =  np.zeros(10)\n",
    "fscore =  np.zeros(10)\n",
    "accuracy =  np.zeros(10)\n",
    "i = 0\n",
    "for train_index, test_index in kf.split(x):\n",
    "    X_train,X_test = x[train_index],x[test_index]\n",
    "    y_train , y_test = y[train_index], y[test_index]\n",
    "    Probability , y_pred = naive_bayes(X_train, y_train, X_test)\n",
    "    print('Probability:',Probability)\n",
    "    print('test_output:',y_pred)\n",
    "    p,r,f,support = score(y_test,y_pred)\n",
    "    accuracy[i] = accuracy_score(y_test,y_pred)\n",
    "    precision[i] , recall[i], fscore[i] = p.mean(),r.mean(),f.mean()\n",
    "    i +=1\n",
    "    \n",
    "print('precision:',precision.mean())\n",
    "print('recall:',recall.mean())\n",
    "print('f1measure',fscore.mean())\n",
    "print('accuracy',accuracy.mean())\n"
   ]
  },
  {
   "cell_type": "code",
   "execution_count": null,
   "metadata": {},
   "outputs": [],
   "source": []
  }
 ],
 "metadata": {
  "kernelspec": {
   "display_name": "Python 3",
   "language": "python",
   "name": "python3"
  },
  "language_info": {
   "codemirror_mode": {
    "name": "ipython",
    "version": 3
   },
   "file_extension": ".py",
   "mimetype": "text/x-python",
   "name": "python",
   "nbconvert_exporter": "python",
   "pygments_lexer": "ipython3",
   "version": "3.7.0"
  }
 },
 "nbformat": 4,
 "nbformat_minor": 2
}
