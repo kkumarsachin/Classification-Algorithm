{
 "cells": [
  {
   "cell_type": "code",
   "execution_count": 83,
   "metadata": {},
   "outputs": [],
   "source": [
    "import numpy as np\n",
    "import pandas as pd\n",
    "from sklearn.model_selection import train_test_split\n",
    "import math\n",
    "from sklearn.model_selection import KFold\n",
    "from sklearn.metrics import classification_report,confusion_matrix, accuracy_score\n",
    "from sklearn.metrics import precision_recall_fscore_support as score\n",
    "from sklearn.preprocessing import LabelEncoder"
   ]
  },
  {
   "cell_type": "code",
   "execution_count": 84,
   "metadata": {},
   "outputs": [],
   "source": [
    "def conditionalprobability(x,mean,stdev):\n",
    "    exponent = math.exp(-(math.pow((x-mean),2)/(2*math.pow(stdev,2))))\n",
    "    return (1 / (math.sqrt(2*math.pi) * stdev)) * exponent\n",
    "    "
   ]
  },
  {
   "cell_type": "code",
   "execution_count": 85,
   "metadata": {},
   "outputs": [],
   "source": [
    "def predict(means,stdev,X,k):\n",
    "    probabilities = {}\n",
    "    for j in range(0,k):\n",
    "        probabilities[j]=1\n",
    "        for i in range(len(X)):\n",
    "            probabilities[j]*=conditionalprobability(X[i],means[j,i],stdev[j,i])\n",
    "   \n",
    "    return max([(value, key) for key, value in probabilities.items()])[1]\n",
    "                   \n",
    "     "
   ]
  },
  {
   "cell_type": "code",
   "execution_count": 86,
   "metadata": {},
   "outputs": [],
   "source": [
    "def predictData(means,stdev,Xtest,ytest):\n",
    "    \n",
    "    k=np.unique(ytest,axis=0).shape[0]\n",
    "    ypred=np.zeros(len(ytest))\n",
    "    for i in range(Xtest.shape[0]):\n",
    "        ypred[i]=predict(means,stdev,Xtest[i],k)\n",
    "        \n",
    "    return ypred\n"
   ]
  },
  {
   "cell_type": "code",
   "execution_count": 87,
   "metadata": {},
   "outputs": [],
   "source": [
    "data = pd.read_csv('project3_dataset2.txt', sep='\\t', header=None)\n",
    "lc = LabelEncoder()\n",
    "data.iloc[:,4]= lc.fit_transform(data.iloc[:,4])\n",
    "rows,col=data.shape\n",
    "x = data.iloc[:,:col-1].values\n",
    "y = data.iloc[:,-1].values\n",
    "\n"
   ]
  },
  {
   "cell_type": "code",
   "execution_count": 88,
   "metadata": {},
   "outputs": [],
   "source": [
    "# run for K fold\n",
    "from sklearn.model_selection import KFold\n",
    "\n",
    "kf = KFold(n_splits=10)\n",
    "precision = np.zeros(10)\n",
    "recall =  np.zeros(10)\n",
    "fscore =  np.zeros(10)\n",
    "accuracy =  np.zeros(10)\n",
    "support = np.zeros(10)\n",
    "i = 0\n",
    "for train_index, test_index in kf.split(x):\n",
    "    x_train,x_test = x[train_index],x[test_index]\n",
    "    y_train , y_test = y[train_index], y[test_index]\n",
    "    x_train = pd.DataFrame(x_train)\n",
    "    x_test = pd.DataFrame(x_test)\n",
    "    y_train = pd.DataFrame(y_train)\n",
    "    y_test = pd.DataFrame(y_test)\n",
    "    x_train['labels'] = y_train\n",
    "    means = x_train.groupby(x_train.iloc[:,-1]).mean().iloc[:,:-1].values\n",
    "    stdev = x_train.groupby(x_train.iloc[:,-1]).std().iloc[:,:-1].values\n",
    "    x_train,x_test,y_train,y_test = x_train.iloc[:,:-1].values,x_test.values,y_train.values,y_test.values\n",
    "    y_pred = predictData(means,stdev,x_test,y_test)\n",
    "    support = 0\n",
    "    p,r,f,s = score(y_test,y_pred)\n",
    "    precision[i],recall[i],fscore[i],accuracy[i]= p.mean(),r.mean(),f.mean(),accuracy_score(y_test,y_pred)\n",
    "    i +=1\n",
    "    "
   ]
  },
  {
   "cell_type": "code",
   "execution_count": 89,
   "metadata": {},
   "outputs": [
    {
     "name": "stdout",
     "output_type": "stream",
     "text": [
      "[0.65957447 0.70212766 0.7826087  0.69565217 0.69565217 0.60869565\n",
      " 0.7826087  0.73913043 0.58695652 0.63043478]\n",
      "precision: 0.6737587700831676\n",
      "recall: 0.6893750777285307\n",
      "f1measure 0.6697982178043362\n",
      "accuracy 0.6883441258094357\n"
     ]
    }
   ],
   "source": [
    "print(accuracy)\n",
    "print('precision:',precision.mean())\n",
    "print('recall:',recall.mean())\n",
    "print('f1measure',fscore.mean())\n",
    "print('accuracy',accuracy.mean())"
   ]
  },
  {
   "cell_type": "markdown",
   "metadata": {},
   "source": [
    "## Verifying Using sklearn"
   ]
  },
  {
   "cell_type": "code",
   "execution_count": 18,
   "metadata": {},
   "outputs": [
    {
     "name": "stdout",
     "output_type": "stream",
     "text": [
      "[[1.21387612e+01 1.79541176e+01 7.79722145e+01 4.62700000e+02\n",
      "  9.21629412e-02 7.81427682e-02 4.45265156e-02 2.49689654e-02\n",
      "  1.73745675e-01 6.27300692e-02 2.79725260e-01 1.21631073e+00\n",
      "  1.96689723e+00 2.08203287e+01 7.11047059e-03 2.08482249e-02\n",
      "  2.55086540e-02 9.66694118e-03 2.03878166e-02 3.56135398e-03\n",
      "  1.33652664e+01 2.35756401e+01 8.68895156e+01 5.58658131e+02\n",
      "  1.24832318e-01 1.79596055e-01 1.64003457e-01 7.37568131e-02\n",
      "  2.69644291e-01 7.91220761e-02]\n",
      " [1.75439157e+01 2.16837952e+01 1.15969277e+02 9.86533735e+02\n",
      "  1.03373855e-01 1.47273133e-01 1.65420663e-01 8.98458434e-02\n",
      "  1.93970482e-01 6.27310843e-02 6.15719880e-01 1.19955723e+00\n",
      "  4.32641566e+00 7.33675904e+01 6.87795181e-03 3.28988855e-02\n",
      "  4.30798193e-02 1.51694157e-02 2.04272831e-02 4.05986145e-03\n",
      "  2.13030120e+01 2.93239759e+01 1.42555000e+02 1.44593133e+03\n",
      "  1.44921024e-01 3.78316325e-01 4.60396265e-01 1.84287289e-01\n",
      "  3.23690964e-01 9.12156024e-02]]\n",
      "0.9298245614035088\n",
      "             precision    recall  f1-score   support\n",
      "\n",
      "          0       0.93      0.96      0.94        68\n",
      "          1       0.93      0.89      0.91        46\n",
      "\n",
      "avg / total       0.93      0.93      0.93       114\n",
      "\n"
     ]
    },
    {
     "name": "stderr",
     "output_type": "stream",
     "text": [
      "C:\\Users\\sachi\\Anaconda3\\lib\\site-packages\\ipykernel_launcher.py:10: SettingWithCopyWarning: \n",
      "A value is trying to be set on a copy of a slice from a DataFrame.\n",
      "Try using .loc[row_indexer,col_indexer] = value instead\n",
      "\n",
      "See the caveats in the documentation: http://pandas.pydata.org/pandas-docs/stable/indexing.html#indexing-view-versus-copy\n",
      "  # Remove the CWD from sys.path while we load stuff.\n"
     ]
    }
   ],
   "source": [
    "from sklearn.naive_bayes import GaussianNB\n",
    "from sklearn.metrics import classification_report,confusion_matrix, accuracy_score\n",
    "from sklearn.model_selection import train_test_split\n",
    "data = pd.read_csv('project3_dataset1.txt', sep='\\t', header=None)\n",
    "rows,col=data.shape\n",
    "x=data.iloc[:,:col-1]\n",
    "y = data.iloc[:,-1]\n",
    "\n",
    "x_train,x_test,y_train,y_test = train_test_split(x,y,test_size=0.2,random_state=42)\n",
    "x_train['labels'] = y_train\n",
    "mean_features = x_train.groupby(x_train.iloc[:,-1]).mean().iloc[:,:-1].values\n",
    "std_features = x_train.groupby(x_train.iloc[:,-1]).std().iloc[:,:-1].values\n",
    "x_train,x_test,y_train,y_test = x_train.iloc[:,:-1].values,x_test.values,y_train.values,y_test.values\n",
    "print(mean_features)\n",
    "NB = GaussianNB()\n",
    "NB.fit(x_train,y_train)\n",
    "y_pred = NB.predict(x_test)\n",
    "print(accuracy_score(y_test,y_pred))\n",
    "print(classification_report(y_test,y_pred))"
   ]
  },
  {
   "cell_type": "code",
   "execution_count": null,
   "metadata": {},
   "outputs": [],
   "source": []
  }
 ],
 "metadata": {
  "kernelspec": {
   "display_name": "Python 3",
   "language": "python",
   "name": "python3"
  },
  "language_info": {
   "codemirror_mode": {
    "name": "ipython",
    "version": 3
   },
   "file_extension": ".py",
   "mimetype": "text/x-python",
   "name": "python",
   "nbconvert_exporter": "python",
   "pygments_lexer": "ipython3",
   "version": "3.7.0"
  }
 },
 "nbformat": 4,
 "nbformat_minor": 2
}
