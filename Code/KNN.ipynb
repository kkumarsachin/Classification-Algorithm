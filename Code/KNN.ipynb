{
 "cells": [
  {
   "cell_type": "code",
   "execution_count": 212,
   "metadata": {},
   "outputs": [],
   "source": [
    "import numpy as np\n",
    "import pandas as pd\n",
    "from scipy.spatial import distance\n",
    "from collections import OrderedDict \n",
    "from sklearn.model_selection import train_test_split\n",
    "from sklearn.model_selection import KFold\n",
    "from sklearn.metrics import classification_report,confusion_matrix, accuracy_score\n",
    "from sklearn import model_selection\n",
    "from sklearn.metrics import precision_recall_fscore_support as score\n",
    "from sklearn.preprocessing import StandardScaler,LabelEncoder"
   ]
  },
  {
   "cell_type": "code",
   "execution_count": 213,
   "metadata": {},
   "outputs": [
    {
     "name": "stdout",
     "output_type": "stream",
     "text": [
      "Enter the no. of neighbors you want\n",
      "9\n"
     ]
    }
   ],
   "source": [
    "# For demo\n",
    "train_data = pd.read_csv('project3_dataset3_train.txt',sep='\\t',header=None)\n",
    "test_data = pd.read_csv('project3_dataset3_test.txt',sep='\\t',header=None)\n",
    "X_train = train_data.iloc[:,:-1].values\n",
    "X_test = test_data.iloc[:,:-1].values\n",
    "y_train = train_data.iloc[:,-1].values\n",
    "y_test = test_data.iloc[:,-1].values\n",
    "k=int(input(\"Enter the no. of neighbors you want\\n\"))\n"
   ]
  },
  {
   "cell_type": "code",
   "execution_count": 214,
   "metadata": {},
   "outputs": [],
   "source": [
    "# For dataset1\n",
    "\n",
    "# data = pd.read_csv('project3_dataset2.txt',sep='\\t',header=None)\n",
    "# labels = data.iloc[:,-1].values\n",
    "# features = data.iloc[:,:-1].values\n",
    "# k=int(input(\"Enter the no. of neighbors you want\\n\"))\n",
    "# sc= StandardScaler()\n",
    "# features = sc.fit_transform(features)\n",
    "# print(features)\n",
    "\n",
    "# for dataset2\n",
    "\n",
    "# data = pd.read_csv('project3_dataset2.txt',sep='\\t',header=None)\n",
    "# lc = LabelEncoder()\n",
    "# data.iloc[:,4]= lc.fit_transform(data.iloc[:,4])\n",
    "# labels = data.iloc[:,-1].values\n",
    "# features = data.iloc[:,:-1].values\n",
    "# k=int(input(\"Enter the no. of neighbors you want\\n\"))\n",
    "# sc= StandardScaler()\n",
    "# features = sc.fit_transform(features)\n",
    "# print(features)\n"
   ]
  },
  {
   "cell_type": "code",
   "execution_count": 215,
   "metadata": {},
   "outputs": [],
   "source": [
    "def knn(X_train, X_test, y_train, y_test):\n",
    "    data = pd.DataFrame(X_train)\n",
    "    data['label']  = y_train\n",
    "    distances = [0]*data.shape[0]\n",
    "    y_pred = [0]*y_test.shape[0]\n",
    "\n",
    "    for j in range(X_test.shape[0]):\n",
    "        for i in range(data.shape[0]):\n",
    "\n",
    "            distances[i]= distance.euclidean(X_train[i],X_test[j])\n",
    "        data['distance']  = distances\n",
    "        sorted_data = data.sort_values(by = 'distance')\n",
    "        k_data = sorted_data.iloc[:k,]\n",
    "        y_pred[j] = k_data['label'].value_counts().index[0]\n",
    "    \n",
    "    precision , recall, fscore, support = score(y_test,y_pred)\n",
    "    precision , recall, fscore = precision.mean() , recall.mean(), fscore.mean()\n",
    "    accuracy = accuracy_score(y_test,y_pred)\n",
    "    \n",
    "    \n",
    "    return precision, recall, fscore, accuracy\n",
    "\n",
    "\n"
   ]
  },
  {
   "cell_type": "code",
   "execution_count": 216,
   "metadata": {},
   "outputs": [],
   "source": [
    "# from sklearn.model_selection import KFold\n",
    "\n",
    "# kf = KFold(n_splits=10)\n",
    "# precision = np.zeros(10)\n",
    "# recall =  np.zeros(10)\n",
    "# fscore =  np.zeros(10)\n",
    "# accuracy =  np.zeros(10)\n",
    "# i = 0\n",
    "# for train_index, test_index in kf.split(features):\n",
    "#     X_train,X_test = features[train_index],features[test_index]\n",
    "#     y_train , y_test = labels[train_index], labels[test_index]\n",
    "#     precision[i],recall[i],fscore[i],accuracy[i]= knn(X_train, X_test, y_train, y_test)\n",
    "#     i +=1\n",
    "    \n",
    "    \n"
   ]
  },
  {
   "cell_type": "code",
   "execution_count": 217,
   "metadata": {},
   "outputs": [
    {
     "name": "stdout",
     "output_type": "stream",
     "text": [
      "0.95\n",
      "precision: 0.9545454545454546\n",
      "recall: 0.95\n",
      "f1measure 0.949874686716792\n",
      "accuracy 0.95\n"
     ]
    }
   ],
   "source": [
    "precision,recall,fscore,accuracy = knn(X_train, X_test, y_train, y_test)\n",
    "print(accuracy)\n",
    "print('precision:',precision)\n",
    "print('recall:',recall)\n",
    "print('f1measure',fscore)\n",
    "print('accuracy',accuracy)"
   ]
  },
  {
   "cell_type": "code",
   "execution_count": null,
   "metadata": {},
   "outputs": [],
   "source": []
  }
 ],
 "metadata": {
  "kernelspec": {
   "display_name": "Python 3",
   "language": "python",
   "name": "python3"
  },
  "language_info": {
   "codemirror_mode": {
    "name": "ipython",
    "version": 3
   },
   "file_extension": ".py",
   "mimetype": "text/x-python",
   "name": "python",
   "nbconvert_exporter": "python",
   "pygments_lexer": "ipython3",
   "version": "3.7.0"
  }
 },
 "nbformat": 4,
 "nbformat_minor": 2
}
